{
  "nbformat": 4,
  "nbformat_minor": 0,
  "metadata": {
    "colab": {
      "provenance": [],
      "gpuType": "T4",
      "authorship_tag": "ABX9TyPlbBi1oxwIMX4Eg7IBbBV2"
    },
    "kernelspec": {
      "name": "python3",
      "display_name": "Python 3"
    },
    "language_info": {
      "name": "python"
    },
    "accelerator": "GPU"
  },
  "cells": [
    {
      "cell_type": "code",
      "execution_count": null,
      "metadata": {
        "id": "9z5nkLKipyyO"
      },
      "outputs": [],
      "source": [
        "!pip install -U transformers\n",
        "!pip install -U acelerate\n",
        "!pip install -U datasets\n",
        "!pip install -U bertviz\n",
        "!pip install -U umap-learn\n",
        "!pip install -U sentencepiece\n",
        "!pip install -U urllib3\n",
        "!pip install py7zr"
      ]
    },
    {
      "cell_type": "code",
      "source": [
        "import warnings\n",
        "warnings.filterwarnings('ignore')"
      ],
      "metadata": {
        "id": "HUFbLXIAqAPH",
        "executionInfo": {
          "status": "ok",
          "timestamp": 1748868175211,
          "user_tz": 180,
          "elapsed": 40,
          "user": {
            "displayName": "Joao Victor teofilo",
            "userId": "11034784916559078394"
          }
        }
      },
      "execution_count": 2,
      "outputs": []
    },
    {
      "cell_type": "code",
      "source": [
        "from datasets import load_dataset\n",
        "dataset = load_dataset(\"cnn_dailymail\", \"3.0.0\", split = \"train[:10]\")"
      ],
      "metadata": {
        "id": "Mqirg0Bcqpmp"
      },
      "execution_count": null,
      "outputs": []
    },
    {
      "cell_type": "code",
      "source": [
        "dataset"
      ],
      "metadata": {
        "colab": {
          "base_uri": "https://localhost:8080/"
        },
        "id": "82ycjssAqxax",
        "executionInfo": {
          "status": "ok",
          "timestamp": 1748868210218,
          "user_tz": 180,
          "elapsed": 15,
          "user": {
            "displayName": "Joao Victor teofilo",
            "userId": "11034784916559078394"
          }
        },
        "outputId": "cbdb319f-4382-4681-c451-efe9a39083a6"
      },
      "execution_count": 4,
      "outputs": [
        {
          "output_type": "execute_result",
          "data": {
            "text/plain": [
              "Dataset({\n",
              "    features: ['article', 'highlights', 'id'],\n",
              "    num_rows: 10\n",
              "})"
            ]
          },
          "metadata": {},
          "execution_count": 4
        }
      ]
    },
    {
      "cell_type": "code",
      "source": [
        "print(dataset[0]['article'])\n",
        "print(\"\\nHighLights:\\n \")\n",
        "print(dataset[0]['highlights'])"
      ],
      "metadata": {
        "colab": {
          "base_uri": "https://localhost:8080/"
        },
        "id": "RL2amIKiqxzn",
        "executionInfo": {
          "status": "ok",
          "timestamp": 1748868216695,
          "user_tz": 180,
          "elapsed": 28,
          "user": {
            "displayName": "Joao Victor teofilo",
            "userId": "11034784916559078394"
          }
        },
        "outputId": "2f906c76-b47a-4740-bbaf-a370feabd820"
      },
      "execution_count": 5,
      "outputs": [
        {
          "output_type": "stream",
          "name": "stdout",
          "text": [
            "LONDON, England (Reuters) -- Harry Potter star Daniel Radcliffe gains access to a reported £20 million ($41.1 million) fortune as he turns 18 on Monday, but he insists the money won't cast a spell on him. Daniel Radcliffe as Harry Potter in \"Harry Potter and the Order of the Phoenix\" To the disappointment of gossip columnists around the world, the young actor says he has no plans to fritter his cash away on fast cars, drink and celebrity parties. \"I don't plan to be one of those people who, as soon as they turn 18, suddenly buy themselves a massive sports car collection or something similar,\" he told an Australian interviewer earlier this month. \"I don't think I'll be particularly extravagant. \"The things I like buying are things that cost about 10 pounds -- books and CDs and DVDs.\" At 18, Radcliffe will be able to gamble in a casino, buy a drink in a pub or see the horror film \"Hostel: Part II,\" currently six places below his number one movie on the UK box office chart. Details of how he'll mark his landmark birthday are under wraps. His agent and publicist had no comment on his plans. \"I'll definitely have some sort of party,\" he said in an interview. \"Hopefully none of you will be reading about it.\" Radcliffe's earnings from the first five Potter films have been held in a trust fund which he has not been able to touch. Despite his growing fame and riches, the actor says he is keeping his feet firmly on the ground. \"People are always looking to say 'kid star goes off the rails,'\" he told reporters last month. \"But I try very hard not to go that way because it would be too easy for them.\" His latest outing as the boy wizard in \"Harry Potter and the Order of the Phoenix\" is breaking records on both sides of the Atlantic and he will reprise the role in the last two films.  Watch I-Reporter give her review of Potter's latest » . There is life beyond Potter, however. The Londoner has filmed a TV movie called \"My Boy Jack,\" about author Rudyard Kipling and his son, due for release later this year. He will also appear in \"December Boys,\" an Australian film about four boys who escape an orphanage. Earlier this year, he made his stage debut playing a tortured teenager in Peter Shaffer's \"Equus.\" Meanwhile, he is braced for even closer media scrutiny now that he's legally an adult: \"I just think I'm going to be more sort of fair game,\" he told Reuters. E-mail to a friend . Copyright 2007 Reuters. All rights reserved.This material may not be published, broadcast, rewritten, or redistributed.\n",
            "\n",
            "HighLights:\n",
            " \n",
            "Harry Potter star Daniel Radcliffe gets £20M fortune as he turns 18 Monday .\n",
            "Young actor says he has no plans to fritter his cash away .\n",
            "Radcliffe's earnings from first five Potter films have been held in trust fund .\n"
          ]
        }
      ]
    },
    {
      "cell_type": "markdown",
      "source": [
        "# T5 and BART benchmarking"
      ],
      "metadata": {
        "id": "qeLAMlb4q2ss"
      }
    },
    {
      "cell_type": "code",
      "source": [
        "from transformers import pipeline\n",
        "summary = {}\n",
        "t5_pipeline = pipeline(\"summarization\", model = \"ubikpt/t5-small-finetuned-cnn\")\n",
        "output = t5_pipeline(dataset[0]['article'])\n",
        "summary['T5-small'] = output[0]['summary_text']"
      ],
      "metadata": {
        "id": "MSdFU7g9qz15"
      },
      "execution_count": null,
      "outputs": []
    },
    {
      "cell_type": "code",
      "source": [
        "bart_pipeline = pipeline(\"summarization\", model = \"facebook/bart-large-cnn\")\n",
        "output = bart_pipeline(dataset[0]['article'])\n",
        "summary['Bart-large'] = output[0]['summary_text']"
      ],
      "metadata": {
        "id": "o6h5Ei38q5G9"
      },
      "execution_count": null,
      "outputs": []
    },
    {
      "cell_type": "code",
      "source": [
        "for model in summary:\n",
        "  print('\\n')\n",
        "  print(f\"Model: {model}\")\n",
        "  print(f\"Summary: {summary[model]}\")"
      ],
      "metadata": {
        "colab": {
          "base_uri": "https://localhost:8080/"
        },
        "id": "Ytsa8_ijrEpx",
        "executionInfo": {
          "status": "ok",
          "timestamp": 1748868307105,
          "user_tz": 180,
          "elapsed": 12,
          "user": {
            "displayName": "Joao Victor teofilo",
            "userId": "11034784916559078394"
          }
        },
        "outputId": "33c85ffb-0701-4a84-c2de-373687654799"
      },
      "execution_count": 8,
      "outputs": [
        {
          "output_type": "stream",
          "name": "stdout",
          "text": [
            "\n",
            "\n",
            "Model: T5-small\n",
            "Summary: Harry Potter star Daniel Radcliffe says he has no plans to fritter his cash away . The actor has filmed a TV movie about author Rudyard Kipling\n",
            "\n",
            "\n",
            "Model: Bart-large\n",
            "Summary: Harry Potter star Daniel Radcliffe turns 18 on Monday. He gains access to a reported £20 million ($41.1 million) fortune. Radcliffe's earnings from the first five Potter films have been held in a trust fund. Details of how he'll mark his landmark birthday are under wraps.\n"
          ]
        }
      ]
    },
    {
      "cell_type": "markdown",
      "source": [
        "Using T5 model to save time"
      ],
      "metadata": {
        "id": "IktqgRQHrNjJ"
      }
    },
    {
      "cell_type": "markdown",
      "source": [
        "# Dataset Analysis"
      ],
      "metadata": {
        "id": "eHpz3QRPrOV0"
      }
    },
    {
      "cell_type": "code",
      "source": [
        "samsum = load_dataset('knkarthick/samsum', trust_remote_code=True)"
      ],
      "metadata": {
        "id": "hhDXRT-_rN1t"
      },
      "execution_count": null,
      "outputs": []
    },
    {
      "cell_type": "code",
      "source": [
        "samsum"
      ],
      "metadata": {
        "colab": {
          "base_uri": "https://localhost:8080/"
        },
        "id": "nZ02NiZbrR7D",
        "executionInfo": {
          "status": "ok",
          "timestamp": 1748868358294,
          "user_tz": 180,
          "elapsed": 25,
          "user": {
            "displayName": "Joao Victor teofilo",
            "userId": "11034784916559078394"
          }
        },
        "outputId": "d528256b-95d5-4060-d562-0279d2725a55"
      },
      "execution_count": 10,
      "outputs": [
        {
          "output_type": "execute_result",
          "data": {
            "text/plain": [
              "DatasetDict({\n",
              "    train: Dataset({\n",
              "        features: ['id', 'dialogue', 'summary'],\n",
              "        num_rows: 14732\n",
              "    })\n",
              "    validation: Dataset({\n",
              "        features: ['id', 'dialogue', 'summary'],\n",
              "        num_rows: 818\n",
              "    })\n",
              "    test: Dataset({\n",
              "        features: ['id', 'dialogue', 'summary'],\n",
              "        num_rows: 819\n",
              "    })\n",
              "})"
            ]
          },
          "metadata": {},
          "execution_count": 10
        }
      ]
    },
    {
      "cell_type": "code",
      "source": [
        "import pandas as pd\n",
        "\n",
        "def clean_examples(example):\n",
        "    dialogue = example.get('dialogue', None)\n",
        "    summary = example.get('summary', None)\n",
        "\n",
        "    if not isinstance(dialogue, str) or not isinstance(summary, str):\n",
        "        return False\n",
        "\n",
        "    if dialogue.strip() == \"\" or summary.strip() == \"\":\n",
        "        return False\n",
        "\n",
        "    example['dialogue'] = dialogue.strip()\n",
        "    example['summary'] = summary.strip()\n",
        "\n",
        "    return True\n",
        "\n",
        "cleaned_dataset = samsum.filter(clean_examples)"
      ],
      "metadata": {
        "colab": {
          "base_uri": "https://localhost:8080/",
          "height": 113,
          "referenced_widgets": [
            "1a6caa34aa4048bd9fba0b2f768ba916",
            "7968b01816b3444ca90ac0a64d3c3e8d",
            "9972e636eb264a32b99c79f37155e7e3",
            "4d87f9c98e844f27b0284152ec26ea94",
            "0b1bed893d6e4f8f9fb52bd5f1634337",
            "7905969526954e08b0a230f4f4eb39a3",
            "995f30fbdf4a409da56353a57fc7e81b",
            "33ef1818adba4d7bb23dbbd35c848cf5",
            "8d4a6cdfef0e459c8f1fb45f3deff715",
            "47b8f62db8924932b89594b1b0b8ad85",
            "b39099ab3fe347b2b2085db0cacd8740",
            "ee5e86b74cf640328509a4278e22772b",
            "acb9ca421c2b425da23bb447afc90938",
            "ad1fe45a87364d46816e1ba1918ddb18",
            "fc727217a1834f07874a0fb9cdbc99ec",
            "dd10d2f1bd234c79a7a9868f38eae61c",
            "0e5bb2165ec44a0caf1057d9a34546e2",
            "ec339ab5c4bf4cb48cd82e1615ce2c26",
            "9b9b8986a58e4df8b04c4643c585157a",
            "4cad8bff3b964bb49bb35d032b4d36a2",
            "bed794babf324ae38f910d01ee672cd8",
            "90144da18e6e4bb8b9f5f2569082a8a8",
            "6ef59c19079641f9a5830898c348bcc8",
            "66fac131ae7d43a6814455edb79c81f2",
            "93dc7e1bd35e4a2aae4d338a76883bb0",
            "b7da1c9a1269447b9b09197c78e4f07e",
            "640deda569d0472fbc80ffc47e353852",
            "2ac436065b854319985ca57f28cfae8b",
            "0463a634832549c0b73626473b24369b",
            "1e01d57fd69e4908b8a5d7490a8ab8e8",
            "c618e28ed599468987ffead8e68fcfc6",
            "518c59fc0a86465eab69886d19146735",
            "e0be1a4774e049458630e52babee99b0"
          ]
        },
        "id": "UrL5uQzorVDV",
        "executionInfo": {
          "status": "ok",
          "timestamp": 1748868367162,
          "user_tz": 180,
          "elapsed": 805,
          "user": {
            "displayName": "Joao Victor teofilo",
            "userId": "11034784916559078394"
          }
        },
        "outputId": "f8342fe0-dac7-4b7a-d663-f3d078fd7794"
      },
      "execution_count": 11,
      "outputs": [
        {
          "output_type": "display_data",
          "data": {
            "text/plain": [
              "Filter:   0%|          | 0/14732 [00:00<?, ? examples/s]"
            ],
            "application/vnd.jupyter.widget-view+json": {
              "version_major": 2,
              "version_minor": 0,
              "model_id": "1a6caa34aa4048bd9fba0b2f768ba916"
            }
          },
          "metadata": {}
        },
        {
          "output_type": "display_data",
          "data": {
            "text/plain": [
              "Filter:   0%|          | 0/818 [00:00<?, ? examples/s]"
            ],
            "application/vnd.jupyter.widget-view+json": {
              "version_major": 2,
              "version_minor": 0,
              "model_id": "ee5e86b74cf640328509a4278e22772b"
            }
          },
          "metadata": {}
        },
        {
          "output_type": "display_data",
          "data": {
            "text/plain": [
              "Filter:   0%|          | 0/819 [00:00<?, ? examples/s]"
            ],
            "application/vnd.jupyter.widget-view+json": {
              "version_major": 2,
              "version_minor": 0,
              "model_id": "6ef59c19079641f9a5830898c348bcc8"
            }
          },
          "metadata": {}
        }
      ]
    },
    {
      "cell_type": "code",
      "source": [
        "cleaned_dataset['train'][0]"
      ],
      "metadata": {
        "colab": {
          "base_uri": "https://localhost:8080/"
        },
        "id": "Rt9M9BLYrX7B",
        "executionInfo": {
          "status": "ok",
          "timestamp": 1748868376549,
          "user_tz": 180,
          "elapsed": 17,
          "user": {
            "displayName": "Joao Victor teofilo",
            "userId": "11034784916559078394"
          }
        },
        "outputId": "128f845a-b48c-45aa-bd2b-55d7ea0cc36b"
      },
      "execution_count": 12,
      "outputs": [
        {
          "output_type": "execute_result",
          "data": {
            "text/plain": [
              "{'id': '13818513',\n",
              " 'dialogue': \"Amanda: I baked  cookies. Do you want some?\\nJerry: Sure!\\nAmanda: I'll bring you tomorrow :-)\",\n",
              " 'summary': 'Amanda baked cookies and will bring Jerry some tomorrow.'}"
            ]
          },
          "metadata": {},
          "execution_count": 12
        }
      ]
    },
    {
      "cell_type": "code",
      "source": [
        "dialogue_len = [len((x['dialogue'] or '').split()) for x in cleaned_dataset['train']]\n",
        "summary_len = [len((x['summary'] or '').split()) for x in cleaned_dataset['train']]"
      ],
      "metadata": {
        "id": "vE2XtT21raaa",
        "executionInfo": {
          "status": "ok",
          "timestamp": 1748868387732,
          "user_tz": 180,
          "elapsed": 4825,
          "user": {
            "displayName": "Joao Victor teofilo",
            "userId": "11034784916559078394"
          }
        }
      },
      "execution_count": 13,
      "outputs": []
    },
    {
      "cell_type": "code",
      "source": [
        "data = pd.DataFrame([dialogue_len, summary_len]).T\n",
        "data.columns = ['dialogue_len', 'summary_len']\n",
        "data.hist(figsize = (10,3))"
      ],
      "metadata": {
        "colab": {
          "base_uri": "https://localhost:8080/",
          "height": 349
        },
        "id": "bYVo_iLqrb-L",
        "executionInfo": {
          "status": "ok",
          "timestamp": 1748868394008,
          "user_tz": 180,
          "elapsed": 982,
          "user": {
            "displayName": "Joao Victor teofilo",
            "userId": "11034784916559078394"
          }
        },
        "outputId": "f6a684ae-aa80-4dee-fa83-313142b13850"
      },
      "execution_count": 14,
      "outputs": [
        {
          "output_type": "execute_result",
          "data": {
            "text/plain": [
              "array([[<Axes: title={'center': 'dialogue_len'}>,\n",
              "        <Axes: title={'center': 'summary_len'}>]], dtype=object)"
            ]
          },
          "metadata": {},
          "execution_count": 14
        },
        {
          "output_type": "display_data",
          "data": {
            "text/plain": [
              "<Figure size 1000x300 with 2 Axes>"
            ],
            "image/png": "[encoded data removed]"
          },
          "metadata": {}
        }
      ]
    },
    {
      "cell_type": "markdown",
      "source": [
        "# Tokenization"
      ],
      "metadata": {
        "id": "fa78hS-6rg6r"
      }
    },
    {
      "cell_type": "code",
      "source": [
        "from transformers import AutoTokenizer, AutoModelForSeq2SeqLM\n",
        "model_ckpt = \"t5-small\"\n",
        "tokenizer = AutoTokenizer.from_pretrained(model_ckpt)\n",
        "model = AutoModelForSeq2SeqLM.from_pretrained(model_ckpt)"
      ],
      "metadata": {
        "id": "5a_XtbAArece"
      },
      "execution_count": null,
      "outputs": []
    },
    {
      "cell_type": "code",
      "source": [
        "model"
      ],
      "metadata": {
        "colab": {
          "base_uri": "https://localhost:8080/"
        },
        "id": "wGISOWtoriqy",
        "executionInfo": {
          "status": "ok",
          "timestamp": 1748868424907,
          "user_tz": 180,
          "elapsed": 13,
          "user": {
            "displayName": "Joao Victor teofilo",
            "userId": "11034784916559078394"
          }
        },
        "outputId": "59a1d47e-e4a4-4eaa-ef1c-a3f3852a42d7"
      },
      "execution_count": 16,
      "outputs": [
        {
          "output_type": "execute_result",
          "data": {
            "text/plain": [
              "T5ForConditionalGeneration(\n",
              "  (shared): Embedding(32128, 512)\n",
              "  (encoder): T5Stack(\n",
              "    (embed_tokens): Embedding(32128, 512)\n",
              "    (block): ModuleList(\n",
              "      (0): T5Block(\n",
              "        (layer): ModuleList(\n",
              "          (0): T5LayerSelfAttention(\n",
              "            (SelfAttention): T5Attention(\n",
              "              (q): Linear(in_features=512, out_features=512, bias=False)\n",
              "              (k): Linear(in_features=512, out_features=512, bias=False)\n",
              "              (v): Linear(in_features=512, out_features=512, bias=False)\n",
              "              (o): Linear(in_features=512, out_features=512, bias=False)\n",
              "              (relative_attention_bias): Embedding(32, 8)\n",
              "            )\n",
              "            (layer_norm): T5LayerNorm()\n",
              "            (dropout): Dropout(p=0.1, inplace=False)\n",
              "          )\n",
              "          (1): T5LayerFF(\n",
              "            (DenseReluDense): T5DenseActDense(\n",
              "              (wi): Linear(in_features=512, out_features=2048, bias=False)\n",
              "              (wo): Linear(in_features=2048, out_features=512, bias=False)\n",
              "              (dropout): Dropout(p=0.1, inplace=False)\n",
              "              (act): ReLU()\n",
              "            )\n",
              "            (layer_norm): T5LayerNorm()\n",
              "            (dropout): Dropout(p=0.1, inplace=False)\n",
              "          )\n",
              "        )\n",
              "      )\n",
              "      (1-5): 5 x T5Block(\n",
              "        (layer): ModuleList(\n",
              "          (0): T5LayerSelfAttention(\n",
              "            (SelfAttention): T5Attention(\n",
              "              (q): Linear(in_features=512, out_features=512, bias=False)\n",
              "              (k): Linear(in_features=512, out_features=512, bias=False)\n",
              "              (v): Linear(in_features=512, out_features=512, bias=False)\n",
              "              (o): Linear(in_features=512, out_features=512, bias=False)\n",
              "            )\n",
              "            (layer_norm): T5LayerNorm()\n",
              "            (dropout): Dropout(p=0.1, inplace=False)\n",
              "          )\n",
              "          (1): T5LayerFF(\n",
              "            (DenseReluDense): T5DenseActDense(\n",
              "              (wi): Linear(in_features=512, out_features=2048, bias=False)\n",
              "              (wo): Linear(in_features=2048, out_features=512, bias=False)\n",
              "              (dropout): Dropout(p=0.1, inplace=False)\n",
              "              (act): ReLU()\n",
              "            )\n",
              "            (layer_norm): T5LayerNorm()\n",
              "            (dropout): Dropout(p=0.1, inplace=False)\n",
              "          )\n",
              "        )\n",
              "      )\n",
              "    )\n",
              "    (final_layer_norm): T5LayerNorm()\n",
              "    (dropout): Dropout(p=0.1, inplace=False)\n",
              "  )\n",
              "  (decoder): T5Stack(\n",
              "    (embed_tokens): Embedding(32128, 512)\n",
              "    (block): ModuleList(\n",
              "      (0): T5Block(\n",
              "        (layer): ModuleList(\n",
              "          (0): T5LayerSelfAttention(\n",
              "            (SelfAttention): T5Attention(\n",
              "              (q): Linear(in_features=512, out_features=512, bias=False)\n",
              "              (k): Linear(in_features=512, out_features=512, bias=False)\n",
              "              (v): Linear(in_features=512, out_features=512, bias=False)\n",
              "              (o): Linear(in_features=512, out_features=512, bias=False)\n",
              "              (relative_attention_bias): Embedding(32, 8)\n",
              "            )\n",
              "            (layer_norm): T5LayerNorm()\n",
              "            (dropout): Dropout(p=0.1, inplace=False)\n",
              "          )\n",
              "          (1): T5LayerCrossAttention(\n",
              "            (EncDecAttention): T5Attention(\n",
              "              (q): Linear(in_features=512, out_features=512, bias=False)\n",
              "              (k): Linear(in_features=512, out_features=512, bias=False)\n",
              "              (v): Linear(in_features=512, out_features=512, bias=False)\n",
              "              (o): Linear(in_features=512, out_features=512, bias=False)\n",
              "            )\n",
              "            (layer_norm): T5LayerNorm()\n",
              "            (dropout): Dropout(p=0.1, inplace=False)\n",
              "          )\n",
              "          (2): T5LayerFF(\n",
              "            (DenseReluDense): T5DenseActDense(\n",
              "              (wi): Linear(in_features=512, out_features=2048, bias=False)\n",
              "              (wo): Linear(in_features=2048, out_features=512, bias=False)\n",
              "              (dropout): Dropout(p=0.1, inplace=False)\n",
              "              (act): ReLU()\n",
              "            )\n",
              "            (layer_norm): T5LayerNorm()\n",
              "            (dropout): Dropout(p=0.1, inplace=False)\n",
              "          )\n",
              "        )\n",
              "      )\n",
              "      (1-5): 5 x T5Block(\n",
              "        (layer): ModuleList(\n",
              "          (0): T5LayerSelfAttention(\n",
              "            (SelfAttention): T5Attention(\n",
              "              (q): Linear(in_features=512, out_features=512, bias=False)\n",
              "              (k): Linear(in_features=512, out_features=512, bias=False)\n",
              "              (v): Linear(in_features=512, out_features=512, bias=False)\n",
              "              (o): Linear(in_features=512, out_features=512, bias=False)\n",
              "            )\n",
              "            (layer_norm): T5LayerNorm()\n",
              "            (dropout): Dropout(p=0.1, inplace=False)\n",
              "          )\n",
              "          (1): T5LayerCrossAttention(\n",
              "            (EncDecAttention): T5Attention(\n",
              "              (q): Linear(in_features=512, out_features=512, bias=False)\n",
              "              (k): Linear(in_features=512, out_features=512, bias=False)\n",
              "              (v): Linear(in_features=512, out_features=512, bias=False)\n",
              "              (o): Linear(in_features=512, out_features=512, bias=False)\n",
              "            )\n",
              "            (layer_norm): T5LayerNorm()\n",
              "            (dropout): Dropout(p=0.1, inplace=False)\n",
              "          )\n",
              "          (2): T5LayerFF(\n",
              "            (DenseReluDense): T5DenseActDense(\n",
              "              (wi): Linear(in_features=512, out_features=2048, bias=False)\n",
              "              (wo): Linear(in_features=2048, out_features=512, bias=False)\n",
              "              (dropout): Dropout(p=0.1, inplace=False)\n",
              "              (act): ReLU()\n",
              "            )\n",
              "            (layer_norm): T5LayerNorm()\n",
              "            (dropout): Dropout(p=0.1, inplace=False)\n",
              "          )\n",
              "        )\n",
              "      )\n",
              "    )\n",
              "    (final_layer_norm): T5LayerNorm()\n",
              "    (dropout): Dropout(p=0.1, inplace=False)\n",
              "  )\n",
              "  (lm_head): Linear(in_features=512, out_features=32128, bias=False)\n",
              ")"
            ]
          },
          "metadata": {},
          "execution_count": 16
        }
      ]
    },
    {
      "cell_type": "code",
      "source": [
        "tokenizer(cleaned_dataset['train'][0]['dialogue'], text_target = cleaned_dataset['train'][0]['summary'], return_tensors = 'pt')"
      ],
      "metadata": {
        "colab": {
          "base_uri": "https://localhost:8080/"
        },
        "id": "LQpQg45lrmMx",
        "executionInfo": {
          "status": "ok",
          "timestamp": 1748868435576,
          "user_tz": 180,
          "elapsed": 22,
          "user": {
            "displayName": "Joao Victor teofilo",
            "userId": "11034784916559078394"
          }
        },
        "outputId": "f9564daf-41af-4d10-8e86-37fa5ebe6f54"
      },
      "execution_count": 17,
      "outputs": [
        {
          "output_type": "execute_result",
          "data": {
            "text/plain": [
              "{'input_ids': tensor([[21542,    10,    27, 13635,  5081,     5,   531,    25,   241,   128,\n",
              "            58, 16637,    10, 10625,    55, 21542,    10,    27,    31,   195,\n",
              "           830,    25,  5721,     3,    10,    18,    61,     1]]), 'attention_mask': tensor([[1, 1, 1, 1, 1, 1, 1, 1, 1, 1, 1, 1, 1, 1, 1, 1, 1, 1, 1, 1, 1, 1, 1, 1,\n",
              "         1, 1, 1, 1]]), 'labels': tensor([[21542, 13635,  5081,    11,    56,   830, 16637,   128,  5721,     5,\n",
              "             1]])}"
            ]
          },
          "metadata": {},
          "execution_count": 17
        }
      ]
    },
    {
      "cell_type": "code",
      "source": [
        "def tokenize(batch):\n",
        "  return tokenizer(batch['dialogue'], text_target = batch['summary'],\n",
        "                   padding = True,\n",
        "                   max_length=200,\n",
        "                   truncation = True,\n",
        "                   return_tensors = 'pt'\n",
        "                   )"
      ],
      "metadata": {
        "id": "me7eyvzMro1I",
        "executionInfo": {
          "status": "ok",
          "timestamp": 1748868441195,
          "user_tz": 180,
          "elapsed": 4,
          "user": {
            "displayName": "Joao Victor teofilo",
            "userId": "11034784916559078394"
          }
        }
      },
      "execution_count": 18,
      "outputs": []
    },
    {
      "cell_type": "code",
      "source": [
        "dataset_tokenized = cleaned_dataset.map(tokenize, batched = True)"
      ],
      "metadata": {
        "colab": {
          "base_uri": "https://localhost:8080/",
          "height": 113,
          "referenced_widgets": [
            "bb39259af0934cf693993cd5f117bb91",
            "a8080e5763e5403eb082bea79284a51a",
            "e803a8d138a14eaaad06e1e6c58d1d31",
            "ed2ce174e8a1484b9f242219c530823a",
            "7598945bcc6348a4b2a041471dca891f",
            "f7613fdd9a554ca58b3baabe4856a401",
            "9e1a38d179ca48b09da0da5447787715",
            "b753a0af90434479adbd5e80f5fa017b",
            "1969e56af31e4582b08b9bafc6357229",
            "ce29356c65f2413bad3ee1b10af73193",
            "8d2e2480e1fe41e485791ea57114e705",
            "93aaac00cd984e1fb87c1add81b3eb9c",
            "fce4c2a92b40404281453e0681288a55",
            "27951e0a7cf747b7b0668cdc8b946488",
            "da36bd0acfb345af94d26508a591dfa8",
            "319c991dfe254e2d88f758c1a478f1b2",
            "1d62afb536ae4c42a3c5a22e4971d5f4",
            "d81da0c02b3942c984b76e24cbfe7439",
            "c7d3179faca5461380694348384696be",
            "7f713afd818d4367b1327b2f50ba50b8",
            "e9455eb9e9fa4725be19bd2c992d5b8b",
            "0b470cfe16044f76b0ad9cc5f83550e1",
            "d793fab625b243c38e0a5efea70a9cb1",
            "68541ac611a84c0c94f79112278af2da",
            "b5645a13278e43bd8e9af1d3c44a3c54",
            "420cb6dc20194e7b9efa9bfab49dfad1",
            "4bbe88e23bc6469698b81c5a7bfab0e6",
            "dbb1cb5180464483ad077de1ea1e7146",
            "7884c248568348a6a71deeee4e5c1746",
            "0ae15291f79645cc8d2cbdd4eb1a46c4",
            "8d1525a14d07403ba523df697726c6f5",
            "7adb28510b2c4506a77b332ddd715dbc",
            "529bb7ab9fc94ab7bd56805c68a27f2b"
          ]
        },
        "id": "C2jSjLUIrqMz",
        "executionInfo": {
          "status": "ok",
          "timestamp": 1748868462744,
          "user_tz": 180,
          "elapsed": 14723,
          "user": {
            "displayName": "Joao Victor teofilo",
            "userId": "11034784916559078394"
          }
        },
        "outputId": "120d6e21-c780-4a40-def8-d6b363baa601"
      },
      "execution_count": 19,
      "outputs": [
        {
          "output_type": "display_data",
          "data": {
            "text/plain": [
              "Map:   0%|          | 0/14731 [00:00<?, ? examples/s]"
            ],
            "application/vnd.jupyter.widget-view+json": {
              "version_major": 2,
              "version_minor": 0,
              "model_id": "bb39259af0934cf693993cd5f117bb91"
            }
          },
          "metadata": {}
        },
        {
          "output_type": "display_data",
          "data": {
            "text/plain": [
              "Map:   0%|          | 0/818 [00:00<?, ? examples/s]"
            ],
            "application/vnd.jupyter.widget-view+json": {
              "version_major": 2,
              "version_minor": 0,
              "model_id": "93aaac00cd984e1fb87c1add81b3eb9c"
            }
          },
          "metadata": {}
        },
        {
          "output_type": "display_data",
          "data": {
            "text/plain": [
              "Map:   0%|          | 0/819 [00:00<?, ? examples/s]"
            ],
            "application/vnd.jupyter.widget-view+json": {
              "version_major": 2,
              "version_minor": 0,
              "model_id": "d793fab625b243c38e0a5efea70a9cb1"
            }
          },
          "metadata": {}
        }
      ]
    },
    {
      "cell_type": "code",
      "source": [
        "dataset_tokenized"
      ],
      "metadata": {
        "colab": {
          "base_uri": "https://localhost:8080/"
        },
        "id": "Ta8AKHzRrr3i",
        "executionInfo": {
          "status": "ok",
          "timestamp": 1748868464643,
          "user_tz": 180,
          "elapsed": 19,
          "user": {
            "displayName": "Joao Victor teofilo",
            "userId": "11034784916559078394"
          }
        },
        "outputId": "c343b55b-b613-4d38-c0f6-eaac90028ace"
      },
      "execution_count": 20,
      "outputs": [
        {
          "output_type": "execute_result",
          "data": {
            "text/plain": [
              "DatasetDict({\n",
              "    train: Dataset({\n",
              "        features: ['id', 'dialogue', 'summary', 'input_ids', 'attention_mask', 'labels'],\n",
              "        num_rows: 14731\n",
              "    })\n",
              "    validation: Dataset({\n",
              "        features: ['id', 'dialogue', 'summary', 'input_ids', 'attention_mask', 'labels'],\n",
              "        num_rows: 818\n",
              "    })\n",
              "    test: Dataset({\n",
              "        features: ['id', 'dialogue', 'summary', 'input_ids', 'attention_mask', 'labels'],\n",
              "        num_rows: 819\n",
              "    })\n",
              "})"
            ]
          },
          "metadata": {},
          "execution_count": 20
        }
      ]
    },
    {
      "cell_type": "markdown",
      "source": [
        "# Model training"
      ],
      "metadata": {
        "id": "FVDVDFPTrzUh"
      }
    },
    {
      "cell_type": "code",
      "source": [
        "from transformers import DataCollatorForSeq2Seq, TrainingArguments, Trainer\n",
        "\n",
        "data_collator = DataCollatorForSeq2Seq(tokenizer, model = model)\n",
        "args = TrainingArguments(\n",
        "    output_dir = \"train_dir\",\n",
        "    num_train_epochs = 4,\n",
        "    per_device_train_batch_size = 4,\n",
        "    per_device_eval_batch_size = 8,\n",
        "    weight_decay = 0.01,\n",
        "    eval_strategy = 'epoch',\n",
        "    save_strategy = 'epoch',\n",
        "    learning_rate = 0.0005,\n",
        "    gradient_accumulation_steps = 500,\n",
        ")"
      ],
      "metadata": {
        "id": "7zFPC5egrv7B",
        "executionInfo": {
          "status": "ok",
          "timestamp": 1748873669800,
          "user_tz": 180,
          "elapsed": 75,
          "user": {
            "displayName": "Joao Victor teofilo",
            "userId": "11034784916559078394"
          }
        }
      },
      "execution_count": 23,
      "outputs": []
    },
    {
      "cell_type": "code",
      "source": [
        "trainer = Trainer(\n",
        "    model = model,\n",
        "    args = args,\n",
        "    data_collator = data_collator,\n",
        "    train_dataset = dataset_tokenized['train'],\n",
        "    eval_dataset = dataset_tokenized['validation']\n",
        ")\n",
        "\n",
        "trainer.train()"
      ],
      "metadata": {
        "colab": {
          "base_uri": "https://localhost:8080/",
          "height": 236
        },
        "id": "3dm5_wEor0tq",
        "executionInfo": {
          "status": "ok",
          "timestamp": 1748875001571,
          "user_tz": 180,
          "elapsed": 1330496,
          "user": {
            "displayName": "Joao Victor teofilo",
            "userId": "11034784916559078394"
          }
        },
        "outputId": "18defb71-f348-4b11-e779-8bf54d12b714"
      },
      "execution_count": 24,
      "outputs": [
        {
          "output_type": "display_data",
          "data": {
            "text/plain": [
              "<IPython.core.display.HTML object>"
            ],
            "text/html": [
              "\n",
              "    <div>\n",
              "      \n",
              "      <progress value='32' max='32' style='width:300px; height:20px; vertical-align: middle;'></progress>\n",
              "      [32/32 21:26, Epoch 4/4]\n",
              "    </div>\n",
              "    <table border=\"1\" class=\"dataframe\">\n",
              "  <thead>\n",
              " <tr style=\"text-align: left;\">\n",
              "      <th>Epoch</th>\n",
              "      <th>Training Loss</th>\n",
              "      <th>Validation Loss</th>\n",
              "    </tr>\n",
              "  </thead>\n",
              "  <tbody>\n",
              "    <tr>\n",
              "      <td>1</td>\n",
              "      <td>No log</td>\n",
              "      <td>0.719474</td>\n",
              "    </tr>\n",
              "    <tr>\n",
              "      <td>2</td>\n",
              "      <td>No log</td>\n",
              "      <td>0.668619</td>\n",
              "    </tr>\n",
              "    <tr>\n",
              "      <td>3</td>\n",
              "      <td>No log</td>\n",
              "      <td>0.654923</td>\n",
              "    </tr>\n",
              "    <tr>\n",
              "      <td>4</td>\n",
              "      <td>No log</td>\n",
              "      <td>0.650185</td>\n",
              "    </tr>\n",
              "  </tbody>\n",
              "</table><p>"
            ]
          },
          "metadata": {}
        },
        {
          "output_type": "execute_result",
          "data": {
            "text/plain": [
              "TrainOutput(global_step=32, training_loss=0.7437204718589783, metrics={'train_runtime': 1329.4929, 'train_samples_per_second': 44.321, 'train_steps_per_second': 0.024, 'total_flos': 3115187621068800.0, 'train_loss': 0.7437204718589783, 'epoch': 4.0})"
            ]
          },
          "metadata": {},
          "execution_count": 24
        }
      ]
    },
    {
      "cell_type": "code",
      "source": [
        "trainer.evaluate()"
      ],
      "metadata": {
        "colab": {
          "base_uri": "https://localhost:8080/",
          "height": 124
        },
        "id": "zSw5Lj0jr2Fe",
        "executionInfo": {
          "status": "ok",
          "timestamp": 1748875017992,
          "user_tz": 180,
          "elapsed": 6041,
          "user": {
            "displayName": "Joao Victor teofilo",
            "userId": "11034784916559078394"
          }
        },
        "outputId": "786e3644-5f53-47be-e56c-180bc0a304e8"
      },
      "execution_count": 25,
      "outputs": [
        {
          "output_type": "display_data",
          "data": {
            "text/plain": [
              "<IPython.core.display.HTML object>"
            ],
            "text/html": [
              "\n",
              "    <div>\n",
              "      \n",
              "      <progress value='103' max='103' style='width:300px; height:20px; vertical-align: middle;'></progress>\n",
              "      [103/103 00:05]\n",
              "    </div>\n",
              "    "
            ]
          },
          "metadata": {}
        },
        {
          "output_type": "execute_result",
          "data": {
            "text/plain": [
              "{'eval_loss': 0.6501851081848145,\n",
              " 'eval_runtime': 6.0437,\n",
              " 'eval_samples_per_second': 135.347,\n",
              " 'eval_steps_per_second': 17.042,\n",
              " 'epoch': 4.0}"
            ]
          },
          "metadata": {},
          "execution_count": 25
        }
      ]
    },
    {
      "cell_type": "markdown",
      "source": [
        "# Testing model"
      ],
      "metadata": {
        "id": "js2-Kq0LEvTq"
      }
    },
    {
      "cell_type": "code",
      "source": [
        "trainer.save_model('t5_samsumsummarization')\n",
        "tokenizer.save_pretrained('t5_samsumsummarization_tokenizer')"
      ],
      "metadata": {
        "colab": {
          "base_uri": "https://localhost:8080/"
        },
        "id": "9xvRqD6LEuYT",
        "executionInfo": {
          "status": "ok",
          "timestamp": 1748875042990,
          "user_tz": 180,
          "elapsed": 993,
          "user": {
            "displayName": "Joao Victor teofilo",
            "userId": "11034784916559078394"
          }
        },
        "outputId": "34ba79a7-150a-4ce9-c070-0a6a75853194"
      },
      "execution_count": 26,
      "outputs": [
        {
          "output_type": "execute_result",
          "data": {
            "text/plain": [
              "('t5_samsumsummarization_tokenizer/tokenizer_config.json',\n",
              " 't5_samsumsummarization_tokenizer/special_tokens_map.json',\n",
              " 't5_samsumsummarization_tokenizer/spiece.model',\n",
              " 't5_samsumsummarization_tokenizer/added_tokens.json',\n",
              " 't5_samsumsummarization_tokenizer/tokenizer.json')"
            ]
          },
          "metadata": {},
          "execution_count": 26
        }
      ]
    },
    {
      "cell_type": "code",
      "source": [
        "from transformers import pipeline\n",
        "\n",
        "summarizer = pipeline(\n",
        "    \"summarization\",\n",
        "    model=\"t5_samsumsummarization\",\n",
        "    tokenizer=\"t5_samsumsummarization_tokenizer\",\n",
        "    device=0\n",
        ")"
      ],
      "metadata": {
        "id": "9T--4mvhE1uj",
        "executionInfo": {
          "status": "ok",
          "timestamp": 1748875056622,
          "user_tz": 180,
          "elapsed": 416,
          "user": {
            "displayName": "Joao Victor teofilo",
            "userId": "11034784916559078394"
          }
        },
        "outputId": "ab367ee0-af59-4ce7-b3b0-ecd16b6a4d7e",
        "colab": {
          "base_uri": "https://localhost:8080/"
        }
      },
      "execution_count": 27,
      "outputs": [
        {
          "output_type": "stream",
          "name": "stderr",
          "text": [
            "Device set to use cuda:0\n"
          ]
        }
      ]
    },
    {
      "cell_type": "code",
      "source": [
        "text = \"\"\"Emma: Did you watch the game last night?\n",
        "Liam: Yeah, it was incredible!\n",
        "Emma: I can't believe they won in the last minute.\n",
        "Liam: Me neither, such a crazy ending!\"\"\"\n",
        "\n",
        "summary = summarizer(text, max_length=100, min_length=10, do_sample=False)\n",
        "\n",
        "print(f\"\\n{'Generated summary':^40}\\n{'-'*40}\\n{summary}\\n{'-'*40}\\n\")"
      ],
      "metadata": {
        "id": "G06epV8qE6J9",
        "executionInfo": {
          "status": "ok",
          "timestamp": 1748875064669,
          "user_tz": 180,
          "elapsed": 713,
          "user": {
            "displayName": "Joao Victor teofilo",
            "userId": "11034784916559078394"
          }
        },
        "outputId": "b9832ee3-77aa-4a83-a6c0-a4a6f85e3241",
        "colab": {
          "base_uri": "https://localhost:8080/"
        }
      },
      "execution_count": 28,
      "outputs": [
        {
          "output_type": "stream",
          "name": "stderr",
          "text": [
            "Your max_length is set to 100, but your input_length is only 48. Since this is a summarization task, where outputs shorter than the input are typically wanted, you might consider decreasing max_length manually, e.g. summarizer('...', max_length=24)\n",
            "Both `max_new_tokens` (=256) and `max_length`(=100) seem to have been set. `max_new_tokens` will take precedence. Please refer to the documentation for more information. (https://huggingface.co/docs/transformers/main/en/main_classes/text_generation)\n"
          ]
        },
        {
          "output_type": "stream",
          "name": "stdout",
          "text": [
            "\n",
            "           Generated summary            \n",
            "----------------------------------------\n",
            "[{'summary_text': 'Emma watched the game last night. Liam and Emma won in the last minute.'}]\n",
            "----------------------------------------\n",
            "\n"
          ]
        }
      ]
    },
    {
      "cell_type": "code",
      "source": [],
      "metadata": {
        "id": "nRMGwJqxE7GJ"
      },
      "execution_count": null,
      "outputs": []
    }
  ]
}